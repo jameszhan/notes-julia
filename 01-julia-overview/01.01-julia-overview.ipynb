{
 "cells": [
  {
   "cell_type": "markdown",
   "metadata": {},
   "source": [
    "# Julia 简介"
   ]
  },
  {
   "cell_type": "markdown",
   "metadata": {},
   "source": [
    "## Julia 历史"
   ]
  },
  {
   "cell_type": "markdown",
   "metadata": {},
   "source": [
    "Julia 语言项目大概从2009年中开始，由 Jeff Bezanson, Stefan Karpinski, Viral B. Shah, Alan Edelman 等人发起，于 2012年2月14日第一次正式发布。\n",
    "\n",
    "版本 | 发布日期\n",
    "--- | ---\n",
    "v0.1.0 | 2012-02-14\n",
    "v0.2.0 | 2013-11-19\n",
    "v0.3.0 | 2014-08-21\n",
    "v0.4.0 | 2015-10-08\n",
    "v0.5.0 | 2016-09-20\n",
    "v0.6.0 | 2017-06-19\n",
    "v1.0.0 | 2018-08-08"
   ]
  },
  {
   "cell_type": "markdown",
   "metadata": {},
   "source": [
    "## Julia 语言的特点"
   ]
  },
  {
   "cell_type": "markdown",
   "metadata": {},
   "source": [
    "科学计算对性能一直有着最高的需求，但目前相关领域的专家却大量使用比较慢的动态语言来完成他们的日常工作。 我们相信在科学计算领域，有很多好的理由使专家们偏爱动态语言， 因此我们不会舍弃这样的特性。幸运的是，现代语言设计和编译器技术可以大大消除性能折衷（trade-off），并提供足够的单一环境来进行原型设计，而且足够高效地部署性能密集型应用程序。Julia 语言在这其中扮演了这样一个角色：它是一门灵活的动态语言，适合用于科学计算和数值计算，并且性能可与传统的静态类型语言媲美。\n",
    "\n",
    "Julia 拥有**可选类型声明**和**多重派发**这两个特性，同时还拥有很棒的性能。这些都得归功于（使用 LLVM 实现的）类型推导和即时编译（JIT）技术。Julia 是一门支持**过程式**、**函数式**和**面向对象**的多范式语言。 它像 R、MATLAB 和 Python 一样简单，在高级数值计算方面有丰富的表现力，而且支持通用编程。为了实现这个目标， Julia 以数学编程语言（mathematical programming languages）为基础，同时也参考了不少流行的动态语言，例如 Lisp, Perl, Python, Lua, 和 Ruby。\n",
    "\n",
    "Julia 与传统动态语言最重要的区别是：\n",
    "\n",
    "- 核心语言很小：标准库是用 Julia 自身写的，包括整数运算这样的基础运算\n",
    "- 丰富的基础类型：既可用于构建和描述对象，也可用于做可选的类型声明\n",
    "- 通过多重派发，可以根据类型的不同，来调用同名函数的不同实现\n",
    "- 为不同的参数类型，自动生成高效、专用的代码\n",
    "- 接近 C 语言的性能"
   ]
  },
  {
   "cell_type": "markdown",
   "metadata": {},
   "source": [
    "Julia 的目标是创建一个前所未有的集易用、强大、高效于一体的语言。除此之外，Julia 还拥有以下优势：\n",
    "\n",
    "- 采用MIT 许可证：免费又开源\n",
    "- 用户自定义类型的速度与兼容性和内建类型一样好\n",
    "- 无需特意编写向量化的代码：非向量化的代码就很快\n",
    "- 为并行计算和分布式计算设计\n",
    "- 轻量级的“绿色”线程：协程（coroutines）\n",
    "- 低调又牛逼的类型系统\n",
    "- 优雅、可扩展的类型转换和类型提升\n",
    "- 对 Unicode 的有效支持，包括但不限于 UTF-8\n",
    "- 直接调用 C 函数，无需封装或调用特别的 API\n",
    "- 像 Shell 一样强大的管理其他进程的能力\n",
    "- 像 Lisp 一样的宏和其他元编程工具"
   ]
  },
  {
   "cell_type": "markdown",
   "metadata": {},
   "source": [
    "## 参考资料\n",
    "\n",
    "* [Julia Docs](https://docs.julialang.org)"
   ]
  }
 ],
 "metadata": {
  "kernelspec": {
   "display_name": "Ruby 2.6.0",
   "language": "ruby",
   "name": "ruby"
  },
  "language_info": {
   "file_extension": ".rb",
   "mimetype": "application/x-ruby",
   "name": "ruby",
   "version": "2.4.1"
  }
 },
 "nbformat": 4,
 "nbformat_minor": 2
}
