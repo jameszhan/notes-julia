{
 "cells": [
  {
   "cell_type": "markdown",
   "metadata": {},
   "source": [
    "# 产生目录"
   ]
  },
  {
   "cell_type": "markdown",
   "metadata": {},
   "source": [
    "目录中英文映射："
   ]
  },
  {
   "cell_type": "code",
   "execution_count": 1,
   "metadata": {},
   "outputs": [
    {
     "data": {
      "text/plain": [
       "Dict{String,String} with 5 entries:\n",
       "  \"02-julia-basics\"   => \"02. **Julia 基础**\"\n",
       "  \"01-julia-overview\" => \"01. **Julia 快速概览**\"\n",
       "  \"04-julia-oop\"      => \"04. **Julia 面向对象编程**\"\n",
       "  \"03-julia-syntax\"   => \"03. **Julia 语法进阶**\"\n",
       "  \"05-julia-on-ml\"    => \"05. **Julia 机器学习编程**\""
      ]
     },
     "execution_count": 1,
     "metadata": {},
     "output_type": "execute_result"
    }
   ],
   "source": [
    "folders = Dict(\n",
    "  \"01-julia-overview\" => \"01. **Julia 快速概览**\",\n",
    "  \"02-julia-basics\" => \"02. **Julia 基础**\",\n",
    "  \"03-julia-syntax\" => \"03. **Julia 语法进阶**\",\n",
    "  \"04-julia-oop\" => \"04. **Julia 面向对象编程**\",\n",
    "  \"05-julia-on-ml\" => \"05. **Julia 机器学习编程**\"\n",
    ")"
   ]
  },
  {
   "cell_type": "code",
   "execution_count": 2,
   "metadata": {},
   "outputs": [
    {
     "name": "stdout",
     "output_type": "stream",
     "text": [
      "\u001b[32m\u001b[1m  Updating\u001b[22m\u001b[39m registry at `~/.julia/registries/General`\n",
      "\u001b[32m\u001b[1m  Updating\u001b[22m\u001b[39m git-repo `https://github.com/JuliaRegistries/General.git`\n",
      "\u001b[?25l\u001b[2K\u001b[?25h\u001b[32m\u001b[1m Resolving\u001b[22m\u001b[39m package versions...\n",
      "\u001b[32m\u001b[1m  Updating\u001b[22m\u001b[39m `~/.julia/environments/v1.1/Project.toml`\n",
      "\u001b[90m [no changes]\u001b[39m\n",
      "\u001b[32m\u001b[1m  Updating\u001b[22m\u001b[39m `~/.julia/environments/v1.1/Manifest.toml`\n",
      "\u001b[90m [no changes]\u001b[39m\n"
     ]
    }
   ],
   "source": [
    "using Pkg\n",
    "Pkg.add(\"JSON\")"
   ]
  },
  {
   "cell_type": "markdown",
   "metadata": {},
   "source": [
    "产生目录文件："
   ]
  },
  {
   "cell_type": "code",
   "execution_count": 3,
   "metadata": {},
   "outputs": [
    {
     "data": {
      "text/plain": [
       "get_title (generic function with 1 method)"
      ]
     },
     "execution_count": 3,
     "metadata": {},
     "output_type": "execute_result"
    }
   ],
   "source": [
    "import JSON\n",
    "\n",
    "function get_title(ipynb_file, default)\n",
    "    content = open(f -> read(f, String), ipynb_file)\n",
    "    obj = JSON.parse(content)\n",
    "    cell = obj[\"cells\"][1]\n",
    "    first_line = cell[\"source\"][1]\n",
    "    if first_line == nothing\n",
    "        default\n",
    "    else\n",
    "        index = match(r\"^[\\d.]+\", default).match\n",
    "        title = replace(chomp(first_line), r\"\\#\\s*\" => \"\")\n",
    "        \"$index. **$title**\"\n",
    "    end\n",
    "end"
   ]
  },
  {
   "cell_type": "code",
   "execution_count": 4,
   "metadata": {},
   "outputs": [
    {
     "name": "stdout",
     "output_type": "stream",
     "text": [
      "- [01. **Julia 快速概览**](01-julia-overview)\n",
      "\t- [01.01. **Ruby 简介**](01-julia-overview/01.01-julia-overview.ipynb)\n",
      "\t- [01.02. **20分钟体验 Ruby**](01-julia-overview/01.02-julia-in-20-minutes.ipynb)\n",
      "\t- [01.03. **从其它语言到 Ruby**](01-julia-overview/01.03-julia-from-other-languages.ipynb)\n",
      "- [02. **Julia 基础**](02-julia-basics)\n",
      "\t- [02.01. **Ruby 数据类型**](02-julia-basics/02.01-types.ipynb)\n",
      "\t- [02.02. **数字**](02-julia-basics/02.02-numbers.ipynb)\n",
      "\t- [02.03. **字符串**](02-julia-basics/02.03-strings.ipynb)\n",
      "\t- [02.04. **符号**](02-julia-basics/02.04-symbols.ipynb)\n",
      "\t- [02.05. **正则表达式**](02-julia-basics/02.05-regular-expression.ipynb)\n",
      "\t- [02.06. **列表**](02-julia-basics/02.06-arrays.ipynb)\n",
      "\t- [02.07. **Hash**](02-julia-basics/02.07-hashes.ipynb)\n",
      "\t- [02.08. **范围 (Range)**](02-julia-basics/02.08-ranges.ipynb)\n",
      "- [03. **Julia 语法进阶**](03-julia-syntax)\n",
      "\t- [03.01. **Ruby 赋值机制**](03-julia-syntax/03.01-assignment-statements.ipynb)\n",
      "\t- [03.02. **判断语句**](03-julia-syntax/03.02-conditional-statements.ipynb)\n",
      "\t- [03.03. **循环**](03-julia-syntax/03.03-loop-statements.ipynb)\n",
      "\t- [03.04. **迭代器**](03-julia-syntax/03.04-iterators.ipynb)\n",
      "\t- [03.05. **函数**](03-julia-syntax/03.05-functions.ipynb)\n",
      "\t- [03.06. **代码块**](03-julia-syntax/03.06-blocks.ipynb)\n",
      "\t- [03.07. **变量作用域**](03-julia-syntax/03.07-scope.ipynb)\n",
      "\t- [03.09. **异常**](03-julia-syntax/03.09-exceptions.ipynb)\n",
      "\t- [03.10. **Ruby 元编程技巧**](03-julia-syntax/03.10-julia-meta-programming.ipynb)\n",
      "\t- [03.11. **Ruby 代码风格**](03-julia-syntax/03.11-julia-style-guide.ipynb)\n",
      "- [04. **Julia 面向对象编程**](04-julia-oop)\n",
      "- [05. **Julia 机器学习编程**](05-julia-on-ml)\n",
      "\n"
     ]
    }
   ],
   "source": [
    "open(\"table-of-contents.md\", \"w\") do io\n",
    "    for folder in sort(collect(keys(folders)))\n",
    "        folder_name = folders[folder]\n",
    "        write(io, \"- [$folder_name]($folder)\\n\")\n",
    "        for f in filter(x -> endswith(x, \".ipynb\"), readdir(folder))\n",
    "            current_file = \"$folder/$f\"\n",
    "            title = strip(get_title(current_file, f))\n",
    "            write(io, \"\\t- [$title]($current_file)\\n\")\n",
    "        end\n",
    "    end\n",
    "end\n",
    "\n",
    "content = open(f -> read(f, String), \"table-of-contents.md\")\n",
    "println(content)"
   ]
  },
  {
   "cell_type": "markdown",
   "metadata": {},
   "source": [
    "- [01. **Julia 快速概览**](01-julia-overview)\n",
    "\t- [01.01. **Ruby 简介**](01-julia-overview/01.01-julia-overview.ipynb)\n",
    "\t- [01.02. **20分钟体验 Ruby**](01-julia-overview/01.02-julia-in-20-minutes.ipynb)\n",
    "\t- [01.03. **从其它语言到 Ruby**](01-julia-overview/01.03-julia-from-other-languages.ipynb)\n",
    "- [02. **Julia 基础**](02-julia-basics)\n",
    "\t- [02.01. **Ruby 数据类型**](02-julia-basics/02.01-types.ipynb)\n",
    "\t- [02.02. **数字**](02-julia-basics/02.02-numbers.ipynb)\n",
    "\t- [02.03. **字符串**](02-julia-basics/02.03-strings.ipynb)\n",
    "\t- [02.04. **符号**](02-julia-basics/02.04-symbols.ipynb)\n",
    "\t- [02.05. **正则表达式**](02-julia-basics/02.05-regular-expression.ipynb)\n",
    "\t- [02.06. **列表**](02-julia-basics/02.06-arrays.ipynb)\n",
    "\t- [02.07. **Hash**](02-julia-basics/02.07-hashes.ipynb)\n",
    "\t- [02.08. **范围 (Range)**](02-julia-basics/02.08-ranges.ipynb)\n",
    "- [03. **Julia 语法进阶**](03-julia-syntax)\n",
    "\t- [03.01. **Ruby 赋值机制**](03-julia-syntax/03.01-assignment-statements.ipynb)\n",
    "\t- [03.02. **判断语句**](03-julia-syntax/03.02-conditional-statements.ipynb)\n",
    "\t- [03.03. **循环**](03-julia-syntax/03.03-loop-statements.ipynb)\n",
    "\t- [03.04. **迭代器**](03-julia-syntax/03.04-iterators.ipynb)\n",
    "\t- [03.05. **函数**](03-julia-syntax/03.05-functions.ipynb)\n",
    "\t- [03.06. **代码块**](03-julia-syntax/03.06-blocks.ipynb)\n",
    "\t- [03.07. **变量作用域**](03-julia-syntax/03.07-scope.ipynb)\n",
    "\t- [03.09. **异常**](03-julia-syntax/03.09-exceptions.ipynb)\n",
    "\t- [03.10. **Ruby 元编程技巧**](03-julia-syntax/03.10-julia-meta-programming.ipynb)\n",
    "\t- [03.11. **Ruby 代码风格**](03-julia-syntax/03.11-julia-style-guide.ipynb)\n",
    "- [04. **Julia 面向对象编程**](04-julia-oop)\n",
    "- [05. **Julia 机器学习编程**](05-julia-on-ml)"
   ]
  }
 ],
 "metadata": {
  "kernelspec": {
   "display_name": "Julia 1.1.0",
   "language": "julia",
   "name": "julia-1.1"
  },
  "language_info": {
   "file_extension": ".jl",
   "mimetype": "application/julia",
   "name": "julia",
   "version": "1.1.0"
  }
 },
 "nbformat": 4,
 "nbformat_minor": 1
}
