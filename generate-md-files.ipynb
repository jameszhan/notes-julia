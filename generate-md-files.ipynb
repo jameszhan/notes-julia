{
 "cells": [
  {
   "cell_type": "markdown",
   "metadata": {},
   "source": [
    "# 将笔记转化为不同的文件格式"
   ]
  },
  {
   "cell_type": "markdown",
   "metadata": {},
   "source": [
    "这里，我们演示把笔记转换为 `Markdown` 文件"
   ]
  },
  {
   "cell_type": "markdown",
   "metadata": {},
   "source": [
    "清理目标目录："
   ]
  },
  {
   "cell_type": "code",
   "execution_count": 4,
   "metadata": {},
   "outputs": [],
   "source": [
    "target_dir = \"static-files\"\n",
    "rm(target_dir, recursive=true, force=true)"
   ]
  },
  {
   "cell_type": "code",
   "execution_count": 6,
   "metadata": {},
   "outputs": [
    {
     "data": {
      "text/plain": [
       "\"static-files/markdown\""
      ]
     },
     "execution_count": 6,
     "metadata": {},
     "output_type": "execute_result"
    }
   ],
   "source": [
    "stored_dir = mkpath(\"$target_dir/markdown\")"
   ]
  },
  {
   "cell_type": "markdown",
   "metadata": {},
   "source": [
    "遍历文件夹得到所有的文件名，并转换其中的 `ipynb` 文件："
   ]
  },
  {
   "cell_type": "code",
   "execution_count": 7,
   "metadata": {},
   "outputs": [
    {
     "name": "stdout",
     "output_type": "stream",
     "text": [
      "\u001b[32m\u001b[1m  Updating\u001b[22m\u001b[39m registry at `~/.julia/registries/General`\n",
      "\u001b[32m\u001b[1m  Updating\u001b[22m\u001b[39m git-repo `https://github.com/JuliaRegistries/General.git`\n",
      "\u001b[?25l\u001b[2K\u001b[?25h\u001b[32m\u001b[1m Resolving\u001b[22m\u001b[39m package versions...\n",
      "\u001b[32m\u001b[1m Installed\u001b[22m\u001b[39m Glob ─ v1.2.0\n",
      "\u001b[32m\u001b[1m  Updating\u001b[22m\u001b[39m `~/.julia/environments/v1.1/Project.toml`\n",
      " \u001b[90m [c27321d9]\u001b[39m\u001b[92m + Glob v1.2.0\u001b[39m\n",
      "\u001b[32m\u001b[1m  Updating\u001b[22m\u001b[39m `~/.julia/environments/v1.1/Manifest.toml`\n",
      " \u001b[90m [c27321d9]\u001b[39m\u001b[92m + Glob v1.2.0\u001b[39m\n"
     ]
    }
   ],
   "source": [
    "import Pkg; Pkg.add(\"Glob\")"
   ]
  },
  {
   "cell_type": "code",
   "execution_count": null,
   "metadata": {},
   "outputs": [
    {
     "name": "stderr",
     "output_type": "stream",
     "text": [
      "[NbConvertApp] Converting notebook 01-julia-overview/01.01-julia-overview.ipynb to markdown\n"
     ]
    },
    {
     "name": "stdout",
     "output_type": "stream",
     "text": [
      "01-julia-overview/01.01-julia-overview.md => static-files/markdown/01-julia-overview/01.01-julia-overview.md\n"
     ]
    },
    {
     "name": "stderr",
     "output_type": "stream",
     "text": [
      "[NbConvertApp] Writing 1241 bytes to 01-julia-overview/01.01-julia-overview.md\n",
      "[NbConvertApp] Converting notebook 01-julia-overview/01.02-julia-in-20-minutes.ipynb to markdown\n"
     ]
    },
    {
     "name": "stdout",
     "output_type": "stream",
     "text": [
      "01-julia-overview/01.02-julia-in-20-minutes.md => static-files/markdown/01-julia-overview/01.02-julia-in-20-minutes.md\n"
     ]
    },
    {
     "name": "stderr",
     "output_type": "stream",
     "text": [
      "[NbConvertApp] Writing 10844 bytes to 01-julia-overview/01.02-julia-in-20-minutes.md\n",
      "[NbConvertApp] Converting notebook 01-julia-overview/01.03-julia-from-other-languages.ipynb to markdown\n"
     ]
    },
    {
     "name": "stdout",
     "output_type": "stream",
     "text": [
      "01-julia-overview/01.03-julia-from-other-languages.md => static-files/markdown/01-julia-overview/01.03-julia-from-other-languages.md\n"
     ]
    },
    {
     "name": "stderr",
     "output_type": "stream",
     "text": [
      "[NbConvertApp] Writing 15489 bytes to 01-julia-overview/01.03-julia-from-other-languages.md\n",
      "[NbConvertApp] Converting notebook 02-julia-basics/02.01-types.ipynb to markdown\n"
     ]
    },
    {
     "name": "stdout",
     "output_type": "stream",
     "text": [
      "02-julia-basics/02.01-types.md => static-files/markdown/02-julia-basics/02.01-types.md\n"
     ]
    },
    {
     "name": "stderr",
     "output_type": "stream",
     "text": [
      "[NbConvertApp] Writing 4620 bytes to 02-julia-basics/02.01-types.md\n",
      "[NbConvertApp] Converting notebook 02-julia-basics/02.02-numbers.ipynb to markdown\n"
     ]
    },
    {
     "name": "stdout",
     "output_type": "stream",
     "text": [
      "02-julia-basics/02.02-numbers.md => static-files/markdown/02-julia-basics/02.02-numbers.md\n"
     ]
    },
    {
     "name": "stderr",
     "output_type": "stream",
     "text": [
      "[NbConvertApp] Writing 9787 bytes to 02-julia-basics/02.02-numbers.md\n",
      "[NbConvertApp] Converting notebook 02-julia-basics/02.03-strings.ipynb to markdown\n"
     ]
    },
    {
     "name": "stdout",
     "output_type": "stream",
     "text": [
      "02-julia-basics/02.03-strings.md => static-files/markdown/02-julia-basics/02.03-strings.md\n"
     ]
    },
    {
     "name": "stderr",
     "output_type": "stream",
     "text": [
      "[NbConvertApp] Writing 10225 bytes to 02-julia-basics/02.03-strings.md\n",
      "[NbConvertApp] Converting notebook 02-julia-basics/02.04-symbols.ipynb to markdown\n"
     ]
    },
    {
     "name": "stdout",
     "output_type": "stream",
     "text": [
      "02-julia-basics/02.04-symbols.md => static-files/markdown/02-julia-basics/02.04-symbols.md\n"
     ]
    },
    {
     "name": "stderr",
     "output_type": "stream",
     "text": [
      "[NbConvertApp] Writing 6055 bytes to 02-julia-basics/02.04-symbols.md\n",
      "[NbConvertApp] Converting notebook 02-julia-basics/02.05-regular-expression.ipynb to markdown\n"
     ]
    },
    {
     "name": "stdout",
     "output_type": "stream",
     "text": [
      "02-julia-basics/02.05-regular-expression.md => static-files/markdown/02-julia-basics/02.05-regular-expression.md\n"
     ]
    },
    {
     "name": "stderr",
     "output_type": "stream",
     "text": [
      "[NbConvertApp] Writing 6234 bytes to 02-julia-basics/02.05-regular-expression.md\n",
      "[NbConvertApp] Converting notebook 02-julia-basics/02.06-arrays.ipynb to markdown\n"
     ]
    },
    {
     "name": "stdout",
     "output_type": "stream",
     "text": [
      "02-julia-basics/02.06-arrays.md => static-files/markdown/02-julia-basics/02.06-arrays.md\n"
     ]
    },
    {
     "name": "stderr",
     "output_type": "stream",
     "text": [
      "[NbConvertApp] Writing 6053 bytes to 02-julia-basics/02.06-arrays.md\n",
      "[NbConvertApp] Converting notebook 02-julia-basics/02.07-hashes.ipynb to markdown\n"
     ]
    },
    {
     "name": "stdout",
     "output_type": "stream",
     "text": [
      "02-julia-basics/02.07-hashes.md => static-files/markdown/02-julia-basics/02.07-hashes.md\n"
     ]
    },
    {
     "name": "stderr",
     "output_type": "stream",
     "text": [
      "[NbConvertApp] Writing 4386 bytes to 02-julia-basics/02.07-hashes.md\n",
      "[NbConvertApp] Converting notebook 02-julia-basics/02.08-ranges.ipynb to markdown\n",
      "[NbConvertApp] Writing 4205 bytes to 02-julia-basics/02.08-ranges.md\n"
     ]
    },
    {
     "name": "stdout",
     "output_type": "stream",
     "text": [
      "02-julia-basics/02.08-ranges.md => static-files/markdown/02-julia-basics/02.08-ranges.md\n"
     ]
    },
    {
     "name": "stderr",
     "output_type": "stream",
     "text": [
      "[NbConvertApp] Converting notebook 03-julia-syntax/03.01-assignment-statements.ipynb to markdown\n"
     ]
    },
    {
     "name": "stdout",
     "output_type": "stream",
     "text": [
      "03-julia-syntax/03.01-assignment-statements.md => static-files/markdown/03-julia-syntax/03.01-assignment-statements.md\n"
     ]
    },
    {
     "name": "stderr",
     "output_type": "stream",
     "text": [
      "[NbConvertApp] Writing 3399 bytes to 03-julia-syntax/03.01-assignment-statements.md\n",
      "[NbConvertApp] Converting notebook 03-julia-syntax/03.02-conditional-statements.ipynb to markdown\n",
      "[NbConvertApp] Writing 5244 bytes to 03-julia-syntax/03.02-conditional-statements.md\n"
     ]
    },
    {
     "name": "stdout",
     "output_type": "stream",
     "text": [
      "03-julia-syntax/03.02-conditional-statements.md => static-files/markdown/03-julia-syntax/03.02-conditional-statements.md\n"
     ]
    },
    {
     "name": "stderr",
     "output_type": "stream",
     "text": [
      "[NbConvertApp] Converting notebook 03-julia-syntax/03.03-loop-statements.ipynb to markdown\n",
      "[NbConvertApp] Writing 4206 bytes to 03-julia-syntax/03.03-loop-statements.md\n"
     ]
    },
    {
     "name": "stdout",
     "output_type": "stream",
     "text": [
      "03-julia-syntax/03.03-loop-statements.md => static-files/markdown/03-julia-syntax/03.03-loop-statements.md\n"
     ]
    },
    {
     "name": "stderr",
     "output_type": "stream",
     "text": [
      "[NbConvertApp] Converting notebook 03-julia-syntax/03.04-iterators.ipynb to markdown\n",
      "[NbConvertApp] Writing 4354 bytes to 03-julia-syntax/03.04-iterators.md\n"
     ]
    },
    {
     "name": "stdout",
     "output_type": "stream",
     "text": [
      "03-julia-syntax/03.04-iterators.md => static-files/markdown/03-julia-syntax/03.04-iterators.md\n"
     ]
    },
    {
     "name": "stderr",
     "output_type": "stream",
     "text": [
      "[NbConvertApp] Converting notebook 03-julia-syntax/03.05-functions.ipynb to markdown\n"
     ]
    },
    {
     "name": "stdout",
     "output_type": "stream",
     "text": [
      "03-julia-syntax/03.05-functions.md => static-files/markdown/03-julia-syntax/03.05-functions.md\n"
     ]
    },
    {
     "name": "stderr",
     "output_type": "stream",
     "text": [
      "[NbConvertApp] Writing 10686 bytes to 03-julia-syntax/03.05-functions.md\n",
      "[NbConvertApp] Converting notebook 03-julia-syntax/03.06-blocks.ipynb to markdown\n"
     ]
    },
    {
     "name": "stdout",
     "output_type": "stream",
     "text": [
      "03-julia-syntax/03.06-blocks.md => static-files/markdown/03-julia-syntax/03.06-blocks.md\n"
     ]
    },
    {
     "name": "stderr",
     "output_type": "stream",
     "text": [
      "[NbConvertApp] Writing 12046 bytes to 03-julia-syntax/03.06-blocks.md\n",
      "[NbConvertApp] Converting notebook 03-julia-syntax/03.07-scope.ipynb to markdown\n",
      "[NbConvertApp] Writing 13919 bytes to 03-julia-syntax/03.07-scope.md\n"
     ]
    },
    {
     "name": "stdout",
     "output_type": "stream",
     "text": [
      "03-julia-syntax/03.07-scope.md => static-files/markdown/03-julia-syntax/03.07-scope.md\n"
     ]
    },
    {
     "name": "stderr",
     "output_type": "stream",
     "text": [
      "[NbConvertApp] Converting notebook 03-julia-syntax/03.09-exceptions.ipynb to markdown\n"
     ]
    }
   ],
   "source": [
    "import Glob: glob\n",
    "files = glob(\"**/*.ipynb\")\n",
    "for file in files\n",
    "    generated_file_name = replace(file, r\"\\.ipynb$\" => \".md\")\n",
    "    run(`jupyter nbconvert --to markdown $file`)\n",
    "    dn = dirname(file)\n",
    "    parent_dir = \"$stored_dir/$dn\"\n",
    "    if !isdir(parent_dir)\n",
    "        mkpath(parent_dir)\n",
    "    end\n",
    "    if isfile(generated_file_name)\n",
    "        println(\"$generated_file_name => $stored_dir/$generated_file_name\")\n",
    "        mv(generated_file_name, \"$stored_dir/$generated_file_name\")\n",
    "    end\n",
    "end"
   ]
  },
  {
   "cell_type": "code",
   "execution_count": 3,
   "metadata": {},
   "outputs": [
    {
     "name": "stdout",
     "output_type": "stream",
     "text": [
      "generated generate-md-files.md\n",
      "generated 05-ruby-on-rails/05.10-rails-style-guide.md\n",
      "generated generate-toc.md\n",
      "generated 02-ruby-basics/02.01-types.md\n",
      "generated 02-ruby-basics/02.04-symbols.md\n",
      "generated 02-ruby-basics/02.07-hashes.md\n",
      "generated 02-ruby-basics/02.08-ranges.md\n",
      "generated 02-ruby-basics/02.02-numbers.md\n",
      "generated 02-ruby-basics/02.03-strings.md\n",
      "generated 02-ruby-basics/02.06-arrays.md\n",
      "generated 02-ruby-basics/02.05-regular-expression.md\n",
      "generated 01-ruby-overview/01.01-ruby-overview.md\n",
      "generated 01-ruby-overview/01.02-ruby-in-20-minutes.md\n",
      "generated 01-ruby-overview/01.03-ruby-from-other-languages.md\n",
      "generated index.md\n",
      "generated 03-ruby-syntax/03.02-conditional-statements.md\n",
      "generated 03-ruby-syntax/03.04-iterators.md\n",
      "generated 03-ruby-syntax/03.10-ruby-meta-programming.md\n",
      "generated 03-ruby-syntax/03.11-ruby-style-guide.md\n",
      "generated 03-ruby-syntax/03.03-loop-statements.md\n",
      "generated 03-ruby-syntax/03.07-scope.md\n",
      "generated 03-ruby-syntax/03.01-assignment-statements.md\n",
      "generated 03-ruby-syntax/03.05-functions.md\n",
      "generated 03-ruby-syntax/03.06-blocks.md\n",
      "generated 03-ruby-syntax/03.09-exceptions.md\n"
     ]
    }
   ],
   "source": [
    "stored_dir = \"#{target_dir}/markdown\"\n",
    "FileUtils.mkdir_p(stored_dir)\n",
    "Dir.glob(\"**/*.ipynb\") do |file|\n",
    "  `jupyter nbconvert --to markdown #{file}`\n",
    "  \n",
    "  generated_file_name = file.gsub(/\\.ipynb$/, '.md')\n",
    "  puts \"generated #{generated_file_name}\" if File.exist?(generated_file_name)\n",
    "  dir = File.dirname(generated_file_name)\n",
    "  parent_dir = \"#{stored_dir}/#{dir}\"\n",
    "  FileUtils.mkdir_p(parent_dir) unless Dir.exist?(parent_dir)\n",
    "  FileUtils.mv(generated_file_name, \"#{stored_dir}/#{generated_file_name}\")\n",
    "end"
   ]
  }
 ],
 "metadata": {
  "kernelspec": {
   "display_name": "Julia 1.1.0",
   "language": "julia",
   "name": "julia-1.1"
  },
  "language_info": {
   "file_extension": ".jl",
   "mimetype": "application/julia",
   "name": "julia",
   "version": "1.1.0"
  }
 },
 "nbformat": 4,
 "nbformat_minor": 1
}
